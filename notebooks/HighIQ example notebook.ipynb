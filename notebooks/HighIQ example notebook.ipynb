{
 "cells": [
  {
   "cell_type": "markdown",
   "metadata": {},
   "source": [
    "### HighIQ spectral processing example.\n",
    "\n",
    "This notebook shows an example of how to process Doppler spectra from complex autocorrelation function (ACF) data. The example data in this notebook are from the Atmospheric Radiation Measurement program's Doppler Lidar in the Southern Great Plains site in Oklahoma. "
   ]
  },
  {
   "cell_type": "code",
   "execution_count": 1,
   "metadata": {},
   "outputs": [
    {
     "name": "stdout",
     "output_type": "stream",
     "text": [
      "Populating the interactive namespace from numpy and matplotlib\n"
     ]
    }
   ],
   "source": [
    "import highiq\n",
    "%pylab inline"
   ]
  },
  {
   "cell_type": "code",
   "execution_count": 2,
   "metadata": {},
   "outputs": [],
   "source": [
    "file_path = '/nfs/gce/projects/digr/sgp_lidar/sgpdlacfC1.a1.20170804.000113.nc.v0'"
   ]
  },
  {
   "cell_type": "markdown",
   "metadata": {},
   "source": [
    "HighIQ uses xarray as its basic data model. Therefore, if you have ACF data in netCDF format, HighIQ will be able to load it without any preprocessing steps. The input dataset must contain 2 four dimensional arrays where the dimensions represent (time, number of samples, number of lags, and real/complex component) such as in the example dataset below."
   ]
  },
  {
   "cell_type": "code",
   "execution_count": 3,
   "metadata": {},
   "outputs": [
    {
     "data": {
      "text/plain": [
       "<xarray.Dataset>\n",
       "Dimensions:      (complex: 2, nlags: 20, nsamples: 4000, time: 2184)\n",
       "Coordinates:\n",
       "  * nlags        (nlags) int16 0 1 2 3 4 5 6 7 8 9 10 11 12 13 14 15 16 17 18 19\n",
       "  * complex      (complex) int16 1 2\n",
       "  * time         (time) datetime64[ns] 2017-08-04T00:01:13.070000 ... 2017-08-04T00:59:59.900000\n",
       "Dimensions without coordinates: nsamples\n",
       "Data variables:\n",
       "    base_time    (time) datetime64[ns] 2017-08-04 2017-08-04 ... 2017-08-04\n",
       "    time_offset  (time) datetime64[ns] dask.array<chunksize=(2184,), meta=np.ndarray>\n",
       "    azimuth      (time) float32 dask.array<chunksize=(2184,), meta=np.ndarray>\n",
       "    elevation    (time) float32 dask.array<chunksize=(2184,), meta=np.ndarray>\n",
       "    acf_bkg      (time, nsamples, nlags, complex) float32 dask.array<chunksize=(2184, 4000, 20, 2), meta=np.ndarray>\n",
       "    acf          (time, nsamples, nlags, complex) float32 dask.array<chunksize=(2184, 4000, 20, 2), meta=np.ndarray>\n",
       "    lat          (time) float32 36.6053 36.6053 36.6053 ... 36.6053 36.6053\n",
       "    lon          (time) float32 -97.4865 -97.4865 -97.4865 ... -97.4865 -97.4865\n",
       "    alt          (time) float32 317.0 317.0 317.0 317.0 ... 317.0 317.0 317.0\n",
       "Attributes:\n",
       "    command_line:          dlacf_ingest -s sgp -f C1 -D\n",
       "    Conventions:           ARM-1.2\n",
       "    process_version:       ingest-dlacf-1.0-0.el6\n",
       "    dod_version:           dlacf-a1-1.0\n",
       "    input_source:          /data/collection/sgp/sgpdlacfC1.00/aet_Stare_107_2...\n",
       "    site_id:               sgp\n",
       "    platform_id:           dlacf\n",
       "    facility_id:           C1\n",
       "    data_level:            a1\n",
       "    location_description:  Southern Great Plains (SGP), Lamont, Oklahoma\n",
       "    datastream:            sgpdlacfC1.a1\n",
       "    wavelength:            1548 nm\n",
       "    sample_rate:           50 MHz\n",
       "    doi:                   10.5439/1393859\n",
       "    dlat:                  36.60529\n",
       "    dlon:                  -97.48658\n",
       "    target_latitude:       36.60446\n",
       "    target_longitude:      -97.48515\n",
       "    target_altitude:       318\n",
       "    home_point_azimuth:    90.9\n",
       "    history:               created by user dsmgr on machine ruby at 2018-02-1..."
      ]
     },
     "execution_count": 3,
     "metadata": {},
     "output_type": "execute_result"
    }
   ],
   "source": [
    "my_ds = highiq.io.load_arm_netcdf(file_path)\n",
    "my_ds"
   ]
  },
  {
   "cell_type": "markdown",
   "metadata": {},
   "source": [
    "The first step with this dataset is to process the doppler spectra from the ACF data. HighIQ makes this easy given you have an xarray dataset that has similar specifications to the dataset above. "
   ]
  },
  {
   "cell_type": "code",
   "execution_count": 4,
   "metadata": {},
   "outputs": [
    {
     "name": "stderr",
     "output_type": "stream",
     "text": [
      "/home/rjackson/.conda/envs/spectra_env/lib/python3.7/site-packages/xarray/core/computation.py:609: RuntimeWarning: divide by zero encountered in log10\n",
      "  result_data = func(*input_data)\n"
     ]
    },
    {
     "data": {
      "text/plain": [
       "<xarray.Dataset>\n",
       "Dimensions:                        (complex: 2, freq: 32, nlags: 20, nsamples: 4000, range: 400, time: 2184, vel_bin_interp: 256, vel_bins: 32)\n",
       "Coordinates:\n",
       "  * range                          (range) int64 0 30 60 ... 11910 11940 11970\n",
       "  * time                           (time) datetime64[ns] 2017-08-04T00:01:13.070000 ... 2017-08-04T00:59:59.900000\n",
       "  * vel_bin_interp                 (vel_bin_interp) float64 -1.935e+04 ... 1.814e+04\n",
       "  * vel_bins                       (vel_bins) float64 -1.935e+04 ... 1.814e+04\n",
       "  * nlags                          (nlags) int16 0 1 2 3 4 5 ... 15 16 17 18 19\n",
       "  * complex                        (complex) int16 1 2\n",
       "Dimensions without coordinates: freq, nsamples\n",
       "Data variables:\n",
       "    base_time                      (time) datetime64[ns] 2017-08-04 ... 2017-08-04\n",
       "    time_offset                    (time) datetime64[ns] dask.array<chunksize=(2184,), meta=np.ndarray>\n",
       "    azimuth                        (time) float32 dask.array<chunksize=(2184,), meta=np.ndarray>\n",
       "    elevation                      (time) float32 dask.array<chunksize=(2184,), meta=np.ndarray>\n",
       "    acf_bkg                        (time, nsamples, nlags, complex) float32 dask.array<chunksize=(2184, 4000, 20, 2), meta=np.ndarray>\n",
       "    acf                            (time, nsamples, nlags, complex) float32 dask.array<chunksize=(2184, 4000, 20, 2), meta=np.ndarray>\n",
       "    lat                            (time) float32 36.6053 36.6053 ... 36.6053\n",
       "    lon                            (time) float32 -97.4865 -97.4865 ... -97.4865\n",
       "    alt                            (time) float32 317.0 317.0 ... 317.0 317.0\n",
       "    freq_bins                      (freq) float64 -25.0 -23.44 ... 21.88 23.44\n",
       "    power                          (time, range, vel_bins) float64 2.446e+12 ... 2.423e+15\n",
       "    power_bkg                      (time, range, vel_bins) float64 6.532e+12 ... 2.392e+15\n",
       "    power_spectral_density         (time, range, vel_bins) float64 -inf ... 0.1116\n",
       "    power_spectra_normed           (time, range, vel_bins) float64 nan ... 0.005871\n",
       "    power_spectral_density_interp  (time, range, vel_bin_interp) float64 nan ... 0.1116\n",
       "    power_spectra_normed_interp    (time, range, vel_bin_interp) float64 nan ... 0.005871\n",
       "Attributes:\n",
       "    command_line:            dlacf_ingest -s sgp -f C1 -D\n",
       "    Conventions:             ARM-1.2\n",
       "    process_version:         ingest-dlacf-1.0-0.el6\n",
       "    dod_version:             dlacf-a1-1.0\n",
       "    input_source:            /data/collection/sgp/sgpdlacfC1.00/aet_Stare_107...\n",
       "    site_id:                 sgp\n",
       "    platform_id:             dlacf\n",
       "    facility_id:             C1\n",
       "    data_level:              a1\n",
       "    location_description:    Southern Great Plains (SGP), Lamont, Oklahoma\n",
       "    datastream:              sgpdlacfC1.a1\n",
       "    wavelength:              1548 nm\n",
       "    sample_rate:             50 MHz\n",
       "    doi:                     10.5439/1393859\n",
       "    dlat:                    36.60529\n",
       "    dlon:                    -97.48658\n",
       "    target_latitude:         36.60446\n",
       "    target_longitude:        -97.48515\n",
       "    target_altitude:         318\n",
       "    home_point_azimuth:      90.9\n",
       "    history:                 created by user dsmgr on machine ruby at 2018-02...\n",
       "    nyquist_velocity:        19.35\n",
       "    nyquist_velocity_units:  m s-1"
      ]
     },
     "execution_count": 4,
     "metadata": {},
     "output_type": "execute_result"
    }
   ],
   "source": [
    "my_ds = highiq.calc.get_psd(my_ds)\n",
    "my_ds"
   ]
  },
  {
   "cell_type": "code",
   "execution_count": 5,
   "metadata": {},
   "outputs": [
    {
     "data": {
      "text/plain": [
       "[<matplotlib.lines.Line2D at 0x7f576c4f1a10>]"
      ]
     },
     "execution_count": 5,
     "metadata": {},
     "output_type": "execute_result"
    },
    {
     "data": {
      "image/png": "[encoded data removed]",
      "text/plain": [
       "<Figure size 432x288 with 1 Axes>"
      ]
     },
     "metadata": {
      "needs_background": "light"
     },
     "output_type": "display_data"
    }
   ],
   "source": [
    "my_ds[\"power_spectra_normed\"].isel(time=0, range=4).plot()"
   ]
  },
  {
   "cell_type": "code",
   "execution_count": null,
   "metadata": {},
   "outputs": [],
   "source": []
  }
 ],
 "metadata": {
  "kernelspec": {
   "display_name": "Python [conda env:.conda-spectra_env] *",
   "language": "python",
   "name": "conda-env-.conda-spectra_env-py"
  },
  "language_info": {
   "codemirror_mode": {
    "name": "ipython",
    "version": 3
   },
   "file_extension": ".py",
   "mimetype": "text/x-python",
   "name": "python",
   "nbconvert_exporter": "python",
   "pygments_lexer": "ipython3",
   "version": "3.7.4"
  }
 },
 "nbformat": 4,
 "nbformat_minor": 2
}
